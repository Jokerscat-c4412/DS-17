{
 "cells":[
  {
   "cell_type":"markdown",
   "source":[
    "___\n",
    "\n",
    "<a href='https:\/\/mainacademy.ua\/'> <img src='https:\/\/mainacademy.ua\/wp-content\/uploads\/2019\/03\/logo-main.png' alt = 'Хмм, щось з інтернетом'\/><\/a>\n",
    "___\n",
    "\n",
    "# Module 2: Basic Python"
   ],
   "attachments":{
    
   },
   "metadata":{
    "datalore":{
     "node_id":"eunMCH9e1Igs9GVjJjYM13",
     "type":"MD",
     "hide_input_from_viewers":false,
     "hide_output_from_viewers":false,
     "report_properties":{
      
     }
    }
   }
  },
  {
   "cell_type":"markdown",
   "source":[
    "## Lab work 2.2\n"
   ],
   "attachments":{
    
   },
   "metadata":{
    "datalore":{
     "node_id":"vFBIlBxbHk9kNf3KTh1RdS",
     "type":"MD",
     "hide_input_from_viewers":false,
     "hide_output_from_viewers":false,
     "report_properties":{
      
     }
    }
   }
  },
  {
   "cell_type":"markdown",
   "source":[
    "#### Мета: \n",
    "\n",
    "* навчитися працювати із основними інструкціями Python;\n",
    "* ознайомитися із базовими алгоритмами;"
   ],
   "attachments":{
    
   },
   "metadata":{
    "datalore":{
     "node_id":"SaG39MhKLoQsj7VkbrbyqK",
     "type":"MD",
     "hide_input_from_viewers":false,
     "hide_output_from_viewers":false,
     "report_properties":{
      
     }
    }
   }
  },
  {
   "cell_type":"markdown",
   "source":[
    "### Завдання 1"
   ],
   "attachments":{
    
   },
   "metadata":{
    "datalore":{
     "node_id":"CBPU2vmJOJfr4GpOKKCgYp",
     "type":"MD",
     "hide_input_from_viewers":false,
     "hide_output_from_viewers":false,
     "report_properties":{
      
     }
    }
   }
  },
  {
   "cell_type":"markdown",
   "source":[
    "Для трьох введених натуральних чисел (користувач вводить числа через пробіл) знайдіть мінімальне та максимальне"
   ],
   "attachments":{
    
   },
   "metadata":{
    "datalore":{
     "node_id":"0yI5nCAgHrR1d7Cnnv9t5R",
     "type":"MD",
     "hide_input_from_viewers":false,
     "hide_output_from_viewers":false,
     "report_properties":{
      
     }
    }
   }
  },
  {
   "cell_type":"code",
   "source":[
    "numbers = input()\n",
    "L = list(numbers.split())\n",
    "L1 = [int(i) for i in L]\n",
    "print(\"максимальне =\", max(L1))\n",
    "print(\"мінімальне =\", min(L1))"
   ],
   "execution_count":8,
   "outputs":[
    {
     "name":"stdout",
     "text":[
      " 1 2 3\n",
      "максимальне = 3\n",
      "мінімальне = 1\n"
     ],
     "output_type":"stream"
    }
   ],
   "metadata":{
    "datalore":{
     "node_id":"J1iMvIzGNVcYhYmo649O53",
     "type":"CODE",
     "hide_input_from_viewers":false,
     "hide_output_from_viewers":false,
     "report_properties":{
      
     }
    }
   }
  },
  {
   "cell_type":"markdown",
   "source":[
    "### Завдання 2"
   ],
   "attachments":{
    
   },
   "metadata":{
    "datalore":{
     "node_id":"EYbQUSjcVgtswzNT8BlsNE",
     "type":"MD",
     "hide_input_from_viewers":false,
     "hide_output_from_viewers":false,
     "report_properties":{
      
     }
    }
   }
  },
  {
   "cell_type":"markdown",
   "source":[
    "Програма приймає на вхід два параметри: стать спортсмена(`sex = (f, m)`) та вік спортсмена(`age = [0,100]`).  Спортсмен-дівчина може брати участь у змаганні, якщо її вік більший 18, спортсмен-хлопець - якщо вік більший 16\n",
    "\n",
    "Якщо введеніть не коректні дані, виведіть повідомлення про помилку"
   ],
   "attachments":{
    
   },
   "metadata":{
    "datalore":{
     "node_id":"9P4ANUXvcBDruJGYsaED9P",
     "type":"MD",
     "hide_input_from_viewers":false,
     "hide_output_from_viewers":false,
     "report_properties":{
      
     }
    }
   }
  },
  {
   "cell_type":"code",
   "source":[
    "#sex = input()\n",
    "#age = float(input())\n",
    "\n",
    "sex = input(\"стать\")\n",
    "age = float(input(\"вік\"))\n",
    "\n",
    "if 0 <= age <= 100 and sex =='f' or sex =='m':\n",
    "    if sex == \"f\" and age >=18:\n",
    "        print(\"може приймати участь у змаганнях\")\n",
    "    else:\n",
    "        if sex == \"m\" and age >= 16:\n",
    "            print(\"може приймати участь у змаганнях\")\n",
    "        else:\n",
    "            print(\"не може приймати участь у змаганнях\")\n",
    "else:\n",
    "    print(\"некорентні дані\")\n"
   ],
   "execution_count":11,
   "outputs":[
    {
     "name":"stdout",
     "text":[
      "стать m\n",
      "вік 23\n",
      "може приймати участь у змаганнях\n"
     ],
     "output_type":"stream"
    }
   ],
   "metadata":{
    "datalore":{
     "node_id":"hCsuYaq8Y3O26RfOTXkZrW",
     "type":"CODE",
     "hide_input_from_viewers":false,
     "hide_output_from_viewers":false,
     "report_properties":{
      
     }
    }
   }
  },
  {
   "cell_type":"markdown",
   "source":[
    "### Завдання 3"
   ],
   "attachments":{
    
   },
   "metadata":{
    "datalore":{
     "node_id":"loN2bc2r5qyWL9Bh593bSG",
     "type":"MD",
     "hide_input_from_viewers":false,
     "hide_output_from_viewers":false,
     "report_properties":{
      
     }
    }
   }
  },
  {
   "cell_type":"markdown",
   "source":[
    "Для введеного натурального числа побудуйте драбинку. \n",
    "\n",
    "Наприклад, якщо N = 5, драбинка буде мати вигляд:\n",
    "    \n",
    "&\n",
    "\n",
    "&&\n",
    "\n",
    "&&&\n",
    "\n",
    "&&&&\n",
    "\n",
    "&&&&&"
   ],
   "attachments":{
    
   },
   "metadata":{
    "datalore":{
     "node_id":"1uEdJnXh3x2kBPN74grA4u",
     "type":"MD",
     "hide_input_from_viewers":false,
     "hide_output_from_viewers":false,
     "report_properties":{
      
     }
    }
   }
  },
  {
   "cell_type":"code",
   "source":[
    "N = int(input())\n",
    "for i in range(N+1):\n",
    "    print(\"&\"*i)\n",
    "    i=i+1\n",
    "\n"
   ],
   "execution_count":12,
   "outputs":[
    {
     "name":"stdout",
     "text":[
      " 5\n",
      "\n",
      "&\n",
      "&&\n",
      "&&&\n",
      "&&&&\n",
      "&&&&&\n"
     ],
     "output_type":"stream"
    }
   ],
   "metadata":{
    "datalore":{
     "node_id":"NlCOOgnAnj1CANknMVoSvx",
     "type":"CODE",
     "hide_input_from_viewers":false,
     "hide_output_from_viewers":false,
     "report_properties":{
      
     }
    }
   }
  },
  {
   "cell_type":"markdown",
   "source":[
    "### Завдання 4"
   ],
   "attachments":{
    
   },
   "metadata":{
    "datalore":{
     "node_id":"QCXBpKYxoZKPL30ShbcR4T",
     "type":"MD",
     "hide_input_from_viewers":false,
     "hide_output_from_viewers":false,
     "report_properties":{
      
     }
    }
   }
  },
  {
   "cell_type":"markdown",
   "source":[
    "Із заданого речення виведіть кожне слово і його довжину"
   ],
   "attachments":{
    
   },
   "metadata":{
    "datalore":{
     "node_id":"ymm7khrF63WqEvUeqefH8b",
     "type":"MD",
     "hide_input_from_viewers":false,
     "hide_output_from_viewers":false,
     "report_properties":{
      
     }
    }
   }
  },
  {
   "cell_type":"code",
   "source":[
    "sentence = 'My favourite tutor in academy is Ihor'\n",
    "\n",
    "list1 = sentence.split()\n",
    "for L in list1:\n",
    "    print(L,\", довжина =\", L.__len__())\n"
   ],
   "execution_count":17,
   "outputs":[
    {
     "name":"stdout",
     "text":[
      "My , довжина = 2\n",
      "favourite , довжина = 9\n",
      "tutor , довжина = 5\n",
      "in , довжина = 2\n",
      "academy , довжина = 7\n",
      "is , довжина = 2\n",
      "Ihor , довжина = 4\n"
     ],
     "output_type":"stream"
    }
   ],
   "metadata":{
    "datalore":{
     "node_id":"6XADcz6PWgGe8ls7hKYmKd",
     "type":"CODE",
     "hide_input_from_viewers":false,
     "hide_output_from_viewers":false,
     "report_properties":{
      
     }
    }
   }
  },
  {
   "cell_type":"markdown",
   "source":[
    "### Завдання 5"
   ],
   "attachments":{
    
   },
   "metadata":{
    "datalore":{
     "node_id":"hXkWBsoNfpl55nlL2HjF65",
     "type":"MD",
     "hide_input_from_viewers":false,
     "hide_output_from_viewers":false,
     "report_properties":{
      
     }
    }
   }
  },
  {
   "cell_type":"markdown",
   "source":[
    "Для заданого тексту реалізуйте:\n",
    "* Знайдіть кількість слів\n",
    "* Знайдіть кількість унікальних слів\n",
    "* Своірть словник, де ключем буде слово із тексту, значенням - частота зустрічання в тексті\n",
    "* Виведіть топ-3 слів, що найчастіше зустрічаються\n",
    "\n",
    "Вважаємо, що слово це стрічка з трьох і більше букв, очищена від знаків пунктуації"
   ],
   "attachments":{
    
   },
   "metadata":{
    "datalore":{
     "node_id":"EIwqfu7ZhjCZ0wGXaLBONz",
     "type":"MD",
     "hide_input_from_viewers":false,
     "hide_output_from_viewers":false,
     "report_properties":{
      
     }
    }
   }
  },
  {
   "cell_type":"code",
   "source":[
    "text = \"\"\"До чого ж гарно і весело було в нашому горóді! Ото як вийти з сіней та подивись навколо — геть-чисто все зелене та буйне. А сад було як зацвіте весною! А що робилось на початку літа — огірки цвітуть, гарбузи цвітуть, картопля цвіте. Цвіте малина, смородина, тютюн, квасоля. А соняшника, а маку, буряків, лободи, укропу, моркви! Чого тільки не насадить наша невгамовна мати.\n",
    "\n",
    "— Нічого в світі так я не люблю, як саджати що-небудь у землю, щоб проізростало. Коли вилізає з землі всяка рослиночка, ото мені радість,— любила проказувати вона.\n",
    "\n",
    "Город до того переповнявсь рослинами, що десь серед літа вони вже не вміщалися в ньому. Вони лізли одна на одну, переплітались, душились, дерлися на хлів, на стріху, повзли на тин, а гарбузи звисали з тину прямо на вулицю.\n",
    "\n",
    "А малини — красної, білої! А вишень, а груш солодких, було. як наїсися,— цілий день живіт як бубон.\n",
    "\n",
    "І росло ще, пригадую, багато тютюну, в якому ми, маленькі, ходили, мов у лісі, в якому пізнали перші мозолі на дитячих руках.\n",
    "\n",
    "А вздовж тину, за старою повіткою, росли великі кущі смородини, бузини і ще якихось невідомих рослин. Там неслися кури нишком од матері і різне дрібне птаство. Туди ми рідко лазили. Там було темно навіть удень, і ми боялись гадюки. Хто з нас у дитинстві не боявся гадюки, так за все життя й не побачивши її ніде?\n",
    "\n",
    "Коло хати, що стояла в саду, цвіли квіти, а за хатою, проти сінешніх дверей, коло вишень,— поросла полином стара погребня з одкритою лядою, звідки завжди пахло цвіллю. Там, у льоху, в присмерку плигали жаби. Напевно, там водилися й гадюки.\n",
    "\n",
    "На погребні любив спати дід.\n",
    "\n",
    "У нас був дід дуже схожий на бога. Коли я молився богу, я завжди бачив на покуті портрет діда в старих срібнофольгових шатах, а сам дід лежав на печі і тихо кашляв, слухаючи своїх молитов.\n",
    "\n",
    "У неділю перед богами горіла маленька синенька лампадка, в яку завжди набиралось повно мух. Образ святого Миколая також був схожий на діда, особливо коли дід часом підстригав собі бороду і випивав перед обідом чарку горілки з перцем, і мати не лаялась. Святий Федосій більш скидався на батька. Федосію я не молився, в нього була ще темна борода, а в руці гирлига, одягнена чомусь у білу хустку. А от бог, схожий на діда, той тримав в одній руці круглу сільничку, а трьома пýчками другої неначе збирався взяти зубок часнику\n",
    "Звали нашого діда, як я вже потім довідавсь, Семеном. Він був високий і худий, і чоло в нього високе, хвилясте довге волосся сиве, а борода біла. І була в нього велика грижа ще з молодих чумацьких літ. Пахнув дід теплою землею і трохи млином. Він був письменний по-церковному і в неділю любив урочисто читати псалтир. Ні дід, ні ми не розуміли прочитаного, і це завжди хвилювало нас, як дивна таємниця, що надавала прочитаному особливого, небуденного смислу.\n",
    "\n",
    "Мати ненавиділа діда і вважала його за чорнокнижника. Ми не вірили матері і захищали діда од її нападів, бо псалтир всередині був не чорний, а білий, а товста шкіряна палітурка — коричнева, як гречаний мед чи стара халява. Зрештою, мати крадькома таки знищила псалтир. Вона спалила його в печі по одному листочку, боячись палити зразу весь, щоб він часом не вибухнув і не розніс печі.\n",
    "\n",
    "Любив дід гарну бесіду й добре слово. Часом по дорозі на луг, коли хто питав у нього дорогу на Борзну чи на Батурин, він довго стояв посеред шляху і, махаючи пужалном, гукав услід подорожньому:\n",
    "\n",
    "— Прямо, та й прямо, та й прямо, та й нікуди ж не звертайте!.. Добра людина поїхала, дай їй бог здоров'я,— зітхав він лагідно, коли подорожній нарешті зникав у кущах.\n",
    "\n",
    "— А хто вона, діду, людина ота? Звідки вона?\n",
    "\n",
    "— А бог її знає, хіба я знаю... Ну, чого стоїш як укопаний? — звертався дід до коня, сідаючи на воза.— Но, трогай-бо, ну...\n",
    "\n",
    "Він був наш добрий дух лугу і риби. Гриби й ягоди збирав він у лісі краще за нас усіх і розмовляв з кіньми, з телятами, з травами, з старою грушею і дубом — з усім живим, що росло і рухалось навколо.\n",
    "Більш за все на світі любив дід сонце. Він прожив під сонцем коло ста літ, ніколи не ховаючись у холодок. Так під сонцем на погребні, коло яблуні, він і помер, коли прийшов його час.\n",
    "\n",
    "Дід любив кашляти. Кашляв він часом так довго й гучно, що скільки ми не старалися, ніхто не міг його як слід передражнити. Його кашель чув увесь куток. Старі люди по дідовому кашлю вгадували навіть погоду.\n",
    "\"\"\""
   ],
   "execution_count":null,
   "outputs":[
    
   ],
   "metadata":{
    "datalore":{
     "node_id":"UMSNMLNWl8EXPtD84hjhAT",
     "type":"CODE",
     "hide_input_from_viewers":false,
     "hide_output_from_viewers":false,
     "report_properties":{
      
     }
    }
   }
  },
  {
   "cell_type":"markdown",
   "source":[
    "### Завдання 6 "
   ],
   "attachments":{
    
   },
   "metadata":{
    "datalore":{
     "node_id":"7lPGu4IlU6etTubhQF8MM9",
     "type":"MD",
     "hide_input_from_viewers":false,
     "hide_output_from_viewers":false,
     "report_properties":{
      
     }
    }
   }
  },
  {
   "cell_type":"markdown",
   "source":[
    "Напишіть функції, що:\n",
    "* рохраховує мінімальне та максимальне значення\n",
    "* середнє значення послідовності\n",
    "* медіану послідовності\n",
    "* частоту кожної цифри в послідовності\n",
    "* середнє квадратичне відхилення\n",
    "\n",
    "Послідовність чисел ганеруємо рандомно"
   ],
   "attachments":{
    
   },
   "metadata":{
    "datalore":{
     "node_id":"cYqSRbzPxjkhK6FTZ3PZEh",
     "type":"MD",
     "hide_input_from_viewers":false,
     "hide_output_from_viewers":false,
     "report_properties":{
      
     }
    }
   }
  },
  {
   "cell_type":"code",
   "source":[
    "import random\n",
    " \n",
    "#генеруэмо тисячу чисел в діапазоні від 0 до 10\n",
    "list_with_random_numbers = [random.randint(0,100) for i in range(1000)]\n",
    "\n",
    "                    "
   ],
   "execution_count":null,
   "outputs":[
    
   ],
   "metadata":{
    "datalore":{
     "node_id":"9znc3jJYlr1FY74KFwmkkw",
     "type":"CODE",
     "hide_input_from_viewers":false,
     "hide_output_from_viewers":false,
     "report_properties":{
      
     }
    }
   }
  }
 ],
 "metadata":{
  "kernelspec":{
   "display_name":"Python",
   "language":"python",
   "name":"python"
  },
  "datalore":{
   "version":1,
   "computation_mode":"JUPYTER",
   "package_manager":"pip",
   "base_environment":"default",
   "packages":[
    
   ]
  }
 },
 "nbformat":4,
 "nbformat_minor":4
}